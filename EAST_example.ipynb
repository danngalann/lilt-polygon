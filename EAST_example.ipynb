{
 "cells": [
  {
   "cell_type": "code",
   "execution_count": null,
   "outputs": [],
   "source": [
    "import cv2\n",
    "import numpy as np\n",
    "from PIL import Image"
   ],
   "metadata": {
    "collapsed": false
   },
   "id": "8c2ba744d94778e"
  },
  {
   "cell_type": "code",
   "execution_count": null,
   "id": "initial_id",
   "metadata": {
    "collapsed": true
   },
   "outputs": [],
   "source": [
    "SCORE_THRESHOLD = 0.5  # The threshold to consider a prediction as positive\n",
    "FEATURE_SCALE_FACTOR = 4.0  # The scaling factor used by EAST network due to its architecture\n",
    "\n",
    "def decode_predictions(scores, geometry):\n",
    "    (numRows, numCols) = scores.shape[2:4]\n",
    "    polygons = []\n",
    "    confidences = []\n",
    "\n",
    "    for y in range(0, numRows):\n",
    "        scoresData = scores[0, 0, y]\n",
    "        distanceToTop = geometry[0, 0, y]\n",
    "        distanceToRight = geometry[0, 1, y]\n",
    "        distanceToBottom = geometry[0, 2, y]\n",
    "        distanceToLeft = geometry[0, 3, y]\n",
    "        rotationAngle = geometry[0, 4, y]\n",
    "\n",
    "        for x in range(0, numCols):\n",
    "            if scoresData[x] < SCORE_THRESHOLD:\n",
    "                continue\n",
    "    \n",
    "            (offsetX, offsetY) = (x * FEATURE_SCALE_FACTOR, y * FEATURE_SCALE_FACTOR)\n",
    "            cosA = np.cos(rotationAngle[x])\n",
    "            sinA = np.sin(rotationAngle[x])\n",
    "    \n",
    "            # Calculate the bounding box's width and height using the distances\n",
    "            boxHeight = distanceToTop[x] + distanceToBottom[x]\n",
    "            boxWidth = distanceToRight[x] + distanceToLeft[x]\n",
    "    \n",
    "            # Calculate the top-left and bottom-right corners of the bounding box\n",
    "            endX = int(offsetX + (cosA * distanceToRight[x]) + (sinA * distanceToBottom[x]))\n",
    "            endY = int(offsetY - (sinA * distanceToRight[x]) + (cosA * distanceToBottom[x]))\n",
    "            startX = int(endX - boxWidth)\n",
    "            startY = int(endY - boxHeight)\n",
    "    \n",
    "            # Compute the four corners of the bounding box\n",
    "            topLeft = (startX, startY)\n",
    "            topRight = (endX, startY)\n",
    "            bottomRight = (endX, endY)\n",
    "            bottomLeft = (startX, endY)\n",
    "    \n",
    "            polygons.append([topLeft, topRight, bottomRight, bottomLeft])\n",
    "            confidences.append(scoresData[x])\n",
    "\n",
    "    return (polygons, confidences)"
   ]
  },
  {
   "cell_type": "code",
   "execution_count": null,
   "outputs": [],
   "source": [
    "def show_image(opencv_image):\n",
    "    color_coverted = cv2.cvtColor(opencv_image, cv2.COLOR_BGR2RGB)  \n",
    "    pil_image = Image.fromarray(color_coverted)\n",
    "    \n",
    "    return pil_image      "
   ],
   "metadata": {
    "collapsed": false
   },
   "id": "8aaa744b250cde3b"
  },
  {
   "cell_type": "code",
   "execution_count": null,
   "outputs": [],
   "source": [
    "from shapely.geometry import Polygon\n",
    "\n",
    "def polygon_non_max_suppression(polygons, overlapThresh=0.1):\n",
    "    # Convert lists of points into Polygon objects and validate or \"heal\" them\n",
    "    polygons = [Polygon(p).buffer(0) for p in polygons]\n",
    "    \n",
    "    # Check validity of polygons\n",
    "    valid_polygons = [p for p in polygons if p.is_valid]\n",
    "    \n",
    "    # Compute the area of the polygons\n",
    "    areas = [p.area for p in valid_polygons]\n",
    "    \n",
    "    # Filter out polygons with zero area\n",
    "    valid_idxs = [i for i, area in enumerate(areas) if area > 0]\n",
    "    valid_polygons = [valid_polygons[i] for i in valid_idxs]\n",
    "    areas = [areas[i] for i in valid_idxs]\n",
    "    \n",
    "    # Sort polygons by their area\n",
    "    sorted_idxs = sorted(range(len(valid_polygons)), key=lambda i: areas[i])\n",
    "    \n",
    "    # Initialize the list to store indices of polygons to keep\n",
    "    keep = []\n",
    "    \n",
    "    while len(sorted_idxs) > 0:\n",
    "        # Pop the polygon with the largest area\n",
    "        current = sorted_idxs.pop()\n",
    "        keep.append(current)\n",
    "        \n",
    "        # Compare this polygon with all others\n",
    "        suppress = [current]\n",
    "        for idx in sorted_idxs:\n",
    "            # Compute the intersection area\n",
    "            intersection_area = valid_polygons[current].intersection(valid_polygons[idx]).area\n",
    "            # Calculate overlap ratio for the polygon with smaller area\n",
    "            min_area = min(areas[current], areas[idx])\n",
    "            if min_area == 0:  # Avoid division by zero\n",
    "                continue\n",
    "            \n",
    "            overlap_ratio = intersection_area / min_area\n",
    "            \n",
    "            # If overlap ratio exceeds the threshold, mark for suppression\n",
    "            if overlap_ratio > overlapThresh:\n",
    "                suppress.append(idx)\n",
    "        \n",
    "        # Suppress the polygons\n",
    "        for idx in suppress:\n",
    "            if idx in sorted_idxs:\n",
    "                sorted_idxs.remove(idx)\n",
    "                \n",
    "    # Return the polygons that were kept\n",
    "    return [list(p.exterior.coords)[:-1] for p in [valid_polygons[i] for i in keep]]"
   ],
   "metadata": {
    "collapsed": false
   },
   "id": "765799e754636ab4"
  },
  {
   "cell_type": "code",
   "execution_count": null,
   "outputs": [],
   "source": [
    "image = cv2.imread('datasets/FUNSD_polygon_augmented/dataset/testing_data/images/82092117_augmented_0.png')\n",
    "# Load the image and EAST model\n",
    "east_model = \"bin/frozen_east_text_detection.pb\"\n",
    "net = cv2.dnn.readNet(east_model)\n",
    "\n",
    "blob_size = (512, 512)\n",
    "image_scale_factor = image.shape[1] / blob_size[0], image.shape[0] / blob_size[1]\n",
    "\n",
    "# Prepare the image\n",
    "blob = cv2.dnn.blobFromImage(image, 1.0, blob_size, (123.68, 116.78, 103.94), swapRB=True, crop=False)\n",
    "\n",
    "# Forward pass\n",
    "net.setInput(blob)\n",
    "(scores, geometry) = net.forward([\"feature_fusion/Conv_7/Sigmoid\", \"feature_fusion/concat_3\"])\n",
    "\n",
    "# Decode the predictions\n",
    "(polygons, confidences) = decode_predictions(scores, geometry)\n",
    "\n",
    "# Apply non-maxima suppression to suppress weak, overlapping bounding polygons\n",
    "polygons = polygon_non_max_suppression(polygons)\n",
    "\n",
    "# Scale polygons with format [(x1, y1), (x2, y2), (x3, y3), (x4, y4)]\n",
    "for i in range(len(polygons)):\n",
    "    polygons[i] = np.array(polygons[i]) * image_scale_factor\n",
    "\n",
    "# Draw polygons\n",
    "for polygon in polygons:\n",
    "    cv2.polylines(image, [np.array(polygon, dtype=np.int32)], isClosed=True, color=(0, 255, 0), thickness=2)\n",
    "\n",
    "\n",
    "show_image(image)"
   ],
   "metadata": {
    "collapsed": false
   },
   "id": "d2acaff90f4212e5"
  }
 ],
 "metadata": {
  "kernelspec": {
   "display_name": "Python 3",
   "language": "python",
   "name": "python3"
  },
  "language_info": {
   "codemirror_mode": {
    "name": "ipython",
    "version": 2
   },
   "file_extension": ".py",
   "mimetype": "text/x-python",
   "name": "python",
   "nbconvert_exporter": "python",
   "pygments_lexer": "ipython2",
   "version": "2.7.6"
  }
 },
 "nbformat": 4,
 "nbformat_minor": 5
}
